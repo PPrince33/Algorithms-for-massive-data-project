{
  "cells": [
    {
      "cell_type": "code",
      "execution_count": 1,
      "metadata": {
        "colab": {
          "base_uri": "https://localhost:8080/"
        },
        "id": "ZqeCciFESCfk",
        "outputId": "6360e3a9-6da0-4801-acf2-912df59d3d69"
      },
      "outputs": [
        {
          "output_type": "stream",
          "name": "stdout",
          "text": [
            "Requirement already satisfied: pyspark in /usr/local/lib/python3.12/dist-packages (3.5.1)\n",
            "Requirement already satisfied: py4j==0.10.9.7 in /usr/local/lib/python3.12/dist-packages (from pyspark) (0.10.9.7)\n",
            "Requirement already satisfied: kaggle in /usr/local/lib/python3.12/dist-packages (1.7.4.5)\n",
            "Requirement already satisfied: bleach in /usr/local/lib/python3.12/dist-packages (from kaggle) (6.2.0)\n",
            "Requirement already satisfied: certifi>=14.05.14 in /usr/local/lib/python3.12/dist-packages (from kaggle) (2025.10.5)\n",
            "Requirement already satisfied: charset-normalizer in /usr/local/lib/python3.12/dist-packages (from kaggle) (3.4.4)\n",
            "Requirement already satisfied: idna in /usr/local/lib/python3.12/dist-packages (from kaggle) (3.11)\n",
            "Requirement already satisfied: protobuf in /usr/local/lib/python3.12/dist-packages (from kaggle) (5.29.5)\n",
            "Requirement already satisfied: python-dateutil>=2.5.3 in /usr/local/lib/python3.12/dist-packages (from kaggle) (2.9.0.post0)\n",
            "Requirement already satisfied: python-slugify in /usr/local/lib/python3.12/dist-packages (from kaggle) (8.0.4)\n",
            "Requirement already satisfied: requests in /usr/local/lib/python3.12/dist-packages (from kaggle) (2.32.4)\n",
            "Requirement already satisfied: setuptools>=21.0.0 in /usr/local/lib/python3.12/dist-packages (from kaggle) (75.2.0)\n",
            "Requirement already satisfied: six>=1.10 in /usr/local/lib/python3.12/dist-packages (from kaggle) (1.17.0)\n",
            "Requirement already satisfied: text-unidecode in /usr/local/lib/python3.12/dist-packages (from kaggle) (1.3)\n",
            "Requirement already satisfied: tqdm in /usr/local/lib/python3.12/dist-packages (from kaggle) (4.67.1)\n",
            "Requirement already satisfied: urllib3>=1.15.1 in /usr/local/lib/python3.12/dist-packages (from kaggle) (2.5.0)\n",
            "Requirement already satisfied: webencodings in /usr/local/lib/python3.12/dist-packages (from kaggle) (0.5.1)\n"
          ]
        }
      ],
      "source": [
        "!pip install pyspark\n",
        "!pip install kaggle"
      ]
    },
    {
      "cell_type": "markdown",
      "metadata": {
        "id": "PRJOfW3XKof_"
      },
      "source": [
        "# Market Basket Analysis with Spark (FP-Growth)\n",
        "**Project 2:** Market-Basket Analysis\n",
        "\n",
        "**Author:** Precious Prince\n",
        "\n",
        "**Course:** Algorithms for Massive Data, Master's in Data Science for Economics, University of Milan\n",
        "\n",
        "**Goal:** Recommend books to users based on co-occurrence patterns and rank those recommendations using average user ratings.\n"
      ]
    },
    {
      "cell_type": "markdown",
      "metadata": {
        "id": "4-EmWYKyLvg-"
      },
      "source": [
        "### Libraries"
      ]
    },
    {
      "cell_type": "code",
      "execution_count": 2,
      "metadata": {
        "id": "0nP2bSKvL3O2"
      },
      "outputs": [],
      "source": [
        "import os\n",
        "import pandas as pd\n",
        "import matplotlib.pyplot as plt\n",
        "from pyspark.sql import SparkSession\n",
        "from pyspark.sql import functions as F\n",
        "from pyspark.sql.window import Window\n",
        "from pyspark.ml.fpm import FPGrowth"
      ]
    },
    {
      "cell_type": "markdown",
      "metadata": {
        "id": "fQNWMSCuL7OS"
      },
      "source": [
        "### Kaggle API Setup and Dataset Download"
      ]
    },
    {
      "cell_type": "code",
      "execution_count": 3,
      "metadata": {
        "colab": {
          "base_uri": "https://localhost:8080/"
        },
        "id": "AylyBVEoL-7u",
        "outputId": "6fa56482-e015-4ad8-e128-80b47c824e50"
      },
      "outputs": [
        {
          "output_type": "stream",
          "name": "stdout",
          "text": [
            "Dataset URL: https://www.kaggle.com/datasets/mohamedbakhet/amazon-books-reviews\n",
            "License(s): CC0-1.0\n",
            "Downloading amazon-books-reviews.zip to /content\n",
            " 99% 1.05G/1.06G [00:08<00:00, 263MB/s]\n",
            "100% 1.06G/1.06G [00:08<00:00, 131MB/s]\n",
            "Archive:  amazon-books-reviews.zip\n",
            "  inflating: amazon_books_reviews/Books_rating.csv  \n",
            "  inflating: amazon_books_reviews/books_data.csv  \n"
          ]
        }
      ],
      "source": [
        "os.environ['KAGGLE_USERNAME'] = \"xxxx\"\n",
        "os.environ['KAGGLE_KEY'] = \"xxxx\"\n",
        "!kaggle datasets download -d mohamedbakhet/amazon-books-reviews\n",
        "!unzip amazon-books-reviews.zip -d amazon_books_reviews"
      ]
    },
    {
      "cell_type": "markdown",
      "metadata": {
        "id": "zMZ_vt3NMAyy"
      },
      "source": [
        "### Initialize Spark Session"
      ]
    },
    {
      "cell_type": "code",
      "execution_count": 4,
      "metadata": {
        "id": "IVQ8eXXZMDx9"
      },
      "outputs": [],
      "source": [
        "spark = SparkSession.builder.appName(\"MarketBasketAnalysis\").getOrCreate()\n",
        "\n",
        "# Load dataset files\n",
        "ratings_df = spark.read.csv(\"amazon_books_reviews/Books_rating.csv\", header=True, inferSchema=True, quote='\"', escape='\"', multiLine=True)\n",
        "book_df = spark.read.csv(\"amazon_books_reviews/books_data.csv\", header=True, inferSchema=True)"
      ]
    },
    {
      "cell_type": "markdown",
      "metadata": {
        "id": "0zIaNC6ZMHwl"
      },
      "source": [
        "### Data Cleaning and Sampling"
      ]
    },
    {
      "cell_type": "code",
      "execution_count": 5,
      "metadata": {
        "id": "qh3g0NtxMMDV"
      },
      "outputs": [],
      "source": [
        "# Sampling for quicker local testing; the global variable can control this.\n",
        "\n",
        "sample_df = ratings_df.sample(withReplacement=False, fraction=0.01, seed=42)\n",
        "sample_df = sample_df.dropna(subset=['User_id', 'Id', 'Title'])"
      ]
    },
    {
      "cell_type": "markdown",
      "metadata": {
        "id": "-6KPg29QMVHQ"
      },
      "source": [
        "### Basket Creation (User → List of Books Reviewed (Amazon Standard Identification Number (ASIN)))"
      ]
    },
    {
      "cell_type": "code",
      "execution_count": 6,
      "metadata": {
        "id": "B5rvEoyaMaJP"
      },
      "outputs": [],
      "source": [
        "# Each user represents a basket, and the items are books they reviewed.\n",
        "# Filter only users who reviewed at least 2 books.\n",
        "baskets_id_df = sample_df.groupBy(\"User_id\").agg(F.collect_list(\"Id\").alias(\"basket\"))\n",
        "baskets_id_df = baskets_id_df.withColumn(\"basket\", F.array_distinct(F.col(\"basket\")))\n",
        "baskets_id_df = baskets_id_df.filter(F.size(F.col(\"basket\")) >= 2)"
      ]
    },
    {
      "cell_type": "markdown",
      "metadata": {
        "id": "AAc-Pq9IM3B5"
      },
      "source": [
        "### FP-Growth Model for Frequent Itemset Mining"
      ]
    },
    {
      "cell_type": "code",
      "execution_count": 7,
      "metadata": {
        "id": "NKHVIw2EM4cl"
      },
      "outputs": [],
      "source": [
        "MIN_SUPPORT = 0.001  # Minimum fraction of baskets containing the itemset(Support measures how frequently an item or itemset appears in the dataset.)\n",
        "MIN_CONFIDENCE = 0.5  # Minimum confidence for association rules (Confidence measures how strongly one item implies another.)\n",
        "\n",
        "fp_growth = FPGrowth(itemsCol=\"basket\", minSupport=MIN_SUPPORT, minConfidence=MIN_CONFIDENCE)\n",
        "model = fp_growth.fit(baskets_id_df)\n",
        "association_rules = model.associationRules"
      ]
    },
    {
      "cell_type": "markdown",
      "metadata": {
        "id": "zTla4Wq9-s7M"
      },
      "source": [
        "I used minSupport = 0.001 to focus on books co-reviewed by at least 0.1% of users, ensuring that only meaningful and frequent co-occurrences were included.\n",
        "\n",
        "minConfidence = 0.5 was chosen to retain only strong associations, where the consequent appeared in at least half of the baskets containing the antecedent."
      ]
    },
    {
      "cell_type": "code",
      "execution_count": 8,
      "metadata": {
        "colab": {
          "base_uri": "https://localhost:8080/"
        },
        "id": "jvAzq4dtWBBd",
        "outputId": "f03fbb70-d5c8-47df-98c7-12f7769c48b5"
      },
      "outputs": [
        {
          "output_type": "stream",
          "name": "stdout",
          "text": [
            "Total number of association rules: 15\n"
          ]
        }
      ],
      "source": [
        "# Count total number of association rules generated by FP-Growth\n",
        "num_rules = association_rules.count()\n",
        "print(f\"Total number of association rules: {num_rules}\")"
      ]
    },
    {
      "cell_type": "code",
      "execution_count": 9,
      "metadata": {
        "colab": {
          "base_uri": "https://localhost:8080/"
        },
        "id": "Q8_Npi6I-s7M",
        "outputId": "f6e31bf2-853d-4db6-c5fe-acefa7da6194"
      },
      "outputs": [
        {
          "output_type": "stream",
          "name": "stdout",
          "text": [
            "Unique antecedent itemsets: 14\n"
          ]
        }
      ],
      "source": [
        "unique_antecedents = association_rules.select(\"antecedent\").distinct().count()\n",
        "print(f\"Unique antecedent itemsets: {unique_antecedents:,}\")"
      ]
    },
    {
      "cell_type": "markdown",
      "metadata": {
        "id": "UYt3Ql-XNCGP"
      },
      "source": [
        "### Add Titles to Association Rules for Readability"
      ]
    },
    {
      "cell_type": "code",
      "execution_count": 10,
      "metadata": {
        "id": "vI_AAYkZNGQF",
        "colab": {
          "base_uri": "https://localhost:8080/"
        },
        "outputId": "5af0e6e6-8513-4497-c8c8-74f53f0442e1"
      },
      "outputs": [
        {
          "output_type": "stream",
          "name": "stdout",
          "text": [
            " Readable association rules created: 11\n",
            "+---------------+----------------------------------------------------------------+---------------+----------------------------------------------------------------+------------------+---------------------+\n",
            "|antecedent_asin|antecedent_title                                                |consequent_asin|consequent_title                                                |confidence        |support              |\n",
            "+---------------+----------------------------------------------------------------+---------------+----------------------------------------------------------------+------------------+---------------------+\n",
            "|0520050894     |A Connecticut Yankee in King Arthur's Court (Mark Twain Library)|B00086Q4RO     |Life on the Mississippi, (A Bantam Pathfinder)                  |1.0               |0.0014903129657228018|\n",
            "|1581730470     |Emma                                                            |0451515242     |Emma (Signet classics)                                          |0.6666666666666666|0.0014903129657228018|\n",
            "|0451515242     |Emma (Signet classics)                                          |1581730470     |Emma                                                            |0.5               |0.0014903129657228018|\n",
            "|0451515242     |Emma (Signet classics)                                          |0760700435     |Sense and sensibility                                           |0.5               |0.0014903129657228018|\n",
            "|B000NQ9QF6     |Slaughter-House Five                                            |0613175719     |Ulysses                                                         |0.6666666666666666|0.0014903129657228018|\n",
            "|0582528259     |Jane Eyre (Simple English)                                      |0451518845     |Jane Eyre (Signet classics)                                     |0.6666666666666666|0.0014903129657228018|\n",
            "|B00087CHVU     |Leaves of grass                                                 |B0007EJ04G     |Leaves of Grass (The Illustrated Modern Library)                |1.0               |0.0014903129657228018|\n",
            "|B0007EJ04G     |Leaves of Grass (The Illustrated Modern Library)                |B00087CHVU     |Leaves of grass                                                 |1.0               |0.0014903129657228018|\n",
            "|B000NWQXBA     |The Hobbit                                                      |B000ILIJE0     |The Hobbit There and Back Again                                 |0.75              |0.0022354694485842027|\n",
            "|B00086Q4RO     |Life on the Mississippi, (A Bantam Pathfinder)                  |0520050894     |A Connecticut Yankee in King Arthur's Court (Mark Twain Library)|0.5               |0.0014903129657228018|\n",
            "+---------------+----------------------------------------------------------------+---------------+----------------------------------------------------------------+------------------+---------------------+\n",
            "only showing top 10 rows\n",
            "\n"
          ]
        }
      ],
      "source": [
        "# Many books share similar titles but have different ASINs (paperback, hardcover, different sellers, etc.).\n",
        "# If only the title is exactly the same, then only it would be rejected.\n",
        "# To avoid recommending the same title again, we'll use both ASIN and title checks.\n",
        "\n",
        "# Map ASIN (Id) to Title\n",
        "title_mapping = sample_df.select(\"Id\", \"Title\").dropna().distinct()\n",
        "\n",
        "# Join titles to association rules for better readability\n",
        "rules_readable = (\n",
        "    association_rules\n",
        "    # extract ASINs from the item arrays\n",
        "    .withColumn(\"antecedent_asin\", F.element_at(F.col(\"antecedent\"), 1))\n",
        "    .withColumn(\"consequent_asin\", F.element_at(F.col(\"consequent\"), 1))\n",
        "    # join titles\n",
        "    .join(\n",
        "        title_mapping.withColumnRenamed(\"Id\", \"a_Id\").withColumnRenamed(\"Title\", \"antecedent_title\"),\n",
        "        F.col(\"antecedent_asin\") == F.col(\"a_Id\"),\n",
        "        \"left\"\n",
        "    )\n",
        "    .join(\n",
        "        title_mapping.withColumnRenamed(\"Id\", \"c_Id\").withColumnRenamed(\"Title\", \"consequent_title\"),\n",
        "        F.col(\"consequent_asin\") == F.col(\"c_Id\"),\n",
        "        \"left\"\n",
        "    )\n",
        "    # remove duplicates where antecedent and consequent refer to same title\n",
        "    .filter(F.lower(F.col(\"antecedent_title\")) != F.lower(F.col(\"consequent_title\")))\n",
        "    # keep relevant columns\n",
        "    .select(\n",
        "        \"antecedent_asin\",\n",
        "        \"antecedent_title\",\n",
        "        \"consequent_asin\",\n",
        "        \"consequent_title\",\n",
        "        \"confidence\",\n",
        "        \"support\"\n",
        "    )\n",
        ")\n",
        "\n",
        "print(\" Readable association rules created:\", rules_readable.count())\n",
        "rules_readable.show(10, truncate=False)"
      ]
    },
    {
      "cell_type": "markdown",
      "metadata": {
        "id": "BF8VmWAp-s7N"
      },
      "source": [
        "Since many books share the same title but differ in ASIN (e.g., paperback vs hardcover), I merged the FP-Growth results with the title mapping and filtered identical-title pairs to avoid redundant recommendations.\n",
        "This cleaning step ensured that recommendations represent genuinely distinct books rather than format duplicates."
      ]
    },
    {
      "cell_type": "markdown",
      "metadata": {
        "id": "7fQ4b7mvN10B"
      },
      "source": [
        "### Compute Average Rating per Book"
      ]
    },
    {
      "cell_type": "code",
      "execution_count": 11,
      "metadata": {
        "id": "4Lwj1klYOLHe",
        "colab": {
          "base_uri": "https://localhost:8080/"
        },
        "outputId": "d905b8fa-c74a-4450-a43f-d6c5d9b41f67"
      },
      "outputs": [
        {
          "output_type": "stream",
          "name": "stdout",
          "text": [
            "Rules enriched with average ratings.\n",
            "+----------------------------------------------------------------+----------------------------------------------------------------+------------------+------------------+\n",
            "|antecedent_title                                                |consequent_title                                                |confidence        |avg_rating        |\n",
            "+----------------------------------------------------------------+----------------------------------------------------------------+------------------+------------------+\n",
            "|A Connecticut Yankee in King Arthur's Court (Mark Twain Library)|Life on the Mississippi, (A Bantam Pathfinder)                  |1.0               |3.4285714285714284|\n",
            "|Emma                                                            |Emma (Signet classics)                                          |0.6666666666666666|4.428571428571429 |\n",
            "|Emma (Signet classics)                                          |Emma                                                            |0.5               |4.428571428571429 |\n",
            "|Emma (Signet classics)                                          |Sense and sensibility                                           |0.5               |5.0               |\n",
            "|Slaughter-House Five                                            |Ulysses                                                         |0.6666666666666666|4.166666666666667 |\n",
            "|Jane Eyre (Simple English)                                      |Jane Eyre (Signet classics)                                     |0.6666666666666666|4.5               |\n",
            "|Leaves of grass                                                 |Leaves of Grass (The Illustrated Modern Library)                |1.0               |3.6666666666666665|\n",
            "|Leaves of Grass (The Illustrated Modern Library)                |Leaves of grass                                                 |1.0               |3.6               |\n",
            "|The Hobbit                                                      |The Hobbit There and Back Again                                 |0.75              |4.542857142857143 |\n",
            "|Life on the Mississippi, (A Bantam Pathfinder)                  |A Connecticut Yankee in King Arthur's Court (Mark Twain Library)|0.5               |2.3333333333333335|\n",
            "+----------------------------------------------------------------+----------------------------------------------------------------+------------------+------------------+\n",
            "only showing top 10 rows\n",
            "\n"
          ]
        }
      ],
      "source": [
        "# We'll use this to rank recommendations by quality.\n",
        "# Compute average rating for each book (from sampled data)\n",
        "avg_rating_df = (\n",
        "    sample_df\n",
        "    .groupBy(\"Id\")\n",
        "    .agg(F.avg(\"review/score\").alias(\"avg_rating\"))\n",
        ")\n",
        "\n",
        "# Join average rating on the consequent (recommended) books\n",
        "rules_with_rating = (\n",
        "    rules_readable\n",
        "    .join(\n",
        "        avg_rating_df.withColumnRenamed(\"Id\", \"c_Id\"),\n",
        "        F.col(\"consequent_asin\") == F.col(\"c_Id\"),\n",
        "        \"left\"\n",
        "    )\n",
        "    .drop(\"c_Id\")\n",
        ")\n",
        "\n",
        "print(\"Rules enriched with average ratings.\")\n",
        "rules_with_rating.select(\"antecedent_title\", \"consequent_title\", \"confidence\", \"avg_rating\").show(10, truncate=False)"
      ]
    },
    {
      "cell_type": "markdown",
      "metadata": {
        "id": "L4PTiIBe-s7N"
      },
      "source": [
        "To prioritize higher-quality recommendations, each consequent book was enriched with its average user rating. This allows sorting recommendations by a combined relevance-and-quality score."
      ]
    },
    {
      "cell_type": "code",
      "execution_count": 12,
      "metadata": {
        "colab": {
          "base_uri": "https://localhost:8080/"
        },
        "id": "zumm8JPCWST3",
        "outputId": "79b42546-3e5a-4bb6-ec24-d32dc39aba16"
      },
      "outputs": [
        {
          "output_type": "stream",
          "name": "stdout",
          "text": [
            "Total number of rules after same titles and ASINs: 11\n"
          ]
        }
      ],
      "source": [
        "print(f\"Total number of rules after same titles and ASINs: {rules_with_rating.count()}\")"
      ]
    },
    {
      "cell_type": "markdown",
      "metadata": {
        "id": "OImaCWqTORmX"
      },
      "source": [
        "### Generate Personalized Recommendations per User"
      ]
    },
    {
      "cell_type": "code",
      "execution_count": 13,
      "metadata": {
        "id": "kP6uuaPBOd23",
        "colab": {
          "base_uri": "https://localhost:8080/"
        },
        "outputId": "49d0ae15-1126-41ea-e3e3-8286b6b70efc"
      },
      "outputs": [
        {
          "output_type": "stream",
          "name": "stdout",
          "text": [
            "User-level suggestions created: 34\n",
            "+--------------+---------------+----------------------------------------------------------------+---------------+----------------------------------------------+------------------+---------------------+------------------+------------------------------------------------------------------------------------------------------------------------------------------------------------------------------------+\n",
            "|user_id       |antecedent_asin|antecedent_title                                                |consequent_asin|consequent_title                              |confidence        |support              |avg_rating        |basket                                                                                                                                                                              |\n",
            "+--------------+---------------+----------------------------------------------------------------+---------------+----------------------------------------------+------------------+---------------------+------------------+------------------------------------------------------------------------------------------------------------------------------------------------------------------------------------+\n",
            "|A1EKTLUL24HDG8|0520050894     |A Connecticut Yankee in King Arthur's Court (Mark Twain Library)|B00086Q4RO     |Life on the Mississippi, (A Bantam Pathfinder)|1.0               |0.0014903129657228018|3.4285714285714284|[0613175719, B0007DQ6A8, 0520050894, 0520045610, B000AY6BKY, 0140439544, B000GQK86O, B0006DDGMA, 0451519582, B00086Q4RO, 1423310780, 0939495929, B000KWC7PY, 0948893141, B000PMAOFE]|\n",
            "|A2KFU1W2Q06TY9|0520050894     |A Connecticut Yankee in King Arthur's Court (Mark Twain Library)|B00086Q4RO     |Life on the Mississippi, (A Bantam Pathfinder)|1.0               |0.0014903129657228018|3.4285714285714284|[0520050894, B00086Q4RO]                                                                                                                                                            |\n",
            "|A319KYEIAZ3SON|1581730470     |Emma                                                            |0451515242     |Emma (Signet classics)                        |0.6666666666666666|0.0014903129657228018|4.428571428571429 |[019283357X, 0582418224, 0685580288, B0007HWL6C, 1581730470, 0451515242, 075530750X, 0865472637, B000KC4TIM, B00008HBR7, 0778800539, B000MS0A0K, 0582461359]                        |\n",
            "|A39IY0JU5JI69G|1581730470     |Emma                                                            |0451515242     |Emma (Signet classics)                        |0.6666666666666666|0.0014903129657228018|4.428571428571429 |[1581730470, 0395051150]                                                                                                                                                            |\n",
            "|AUT5ESMCYGBCE |1581730470     |Emma                                                            |0451515242     |Emma (Signet classics)                        |0.6666666666666666|0.0014903129657228018|4.428571428571429 |[1581730470, 0451515242]                                                                                                                                                            |\n",
            "+--------------+---------------+----------------------------------------------------------------+---------------+----------------------------------------------+------------------+---------------------+------------------+------------------------------------------------------------------------------------------------------------------------------------------------------------------------------------+\n",
            "only showing top 5 rows\n",
            "\n"
          ]
        }
      ],
      "source": [
        "user_suggestions = (\n",
        "    baskets_id_df.alias(\"u\")\n",
        "    # Join rules whose antecedent is present in the user's basket\n",
        "    .join(\n",
        "        rules_with_rating.alias(\"r\"),\n",
        "        F.array_contains(F.col(\"u.basket\"), F.col(\"r.antecedent_asin\")),\n",
        "        \"inner\"\n",
        "    )\n",
        "    .select(\n",
        "        F.col(\"u.User_id\").alias(\"user_id\"),\n",
        "        F.col(\"r.antecedent_asin\"),\n",
        "        F.col(\"r.antecedent_title\"),\n",
        "        F.col(\"r.consequent_asin\"),\n",
        "        F.col(\"r.consequent_title\"),\n",
        "        F.col(\"r.confidence\"),\n",
        "        F.col(\"r.support\"),\n",
        "        F.col(\"r.avg_rating\"),\n",
        "        F.col(\"u.basket\")\n",
        "    )\n",
        ")\n",
        "\n",
        "print(\"User-level suggestions created:\", user_suggestions.count())\n",
        "user_suggestions.show(5, truncate=False)"
      ]
    },
    {
      "cell_type": "markdown",
      "metadata": {
        "id": "t68rZZnM-s7O"
      },
      "source": [
        "For each user basket, the FP-Growth rules whose antecedent books appear in the basket were joined to generate personalized recommendations. The resulting table lists, for each user, the recommended book titles, their confidence, and average rating scores."
      ]
    },
    {
      "cell_type": "markdown",
      "metadata": {
        "id": "4j1Owuv9Ovgf"
      },
      "source": [
        "### Filter Out Already Read or Duplicate Books"
      ]
    },
    {
      "cell_type": "code",
      "execution_count": 14,
      "metadata": {
        "id": "O4b1eZeiP_6a",
        "colab": {
          "base_uri": "https://localhost:8080/"
        },
        "outputId": "184da68e-73ac-4fe2-8b13-5190ab609e04"
      },
      "outputs": [
        {
          "output_type": "stream",
          "name": "stdout",
          "text": [
            "Cleaned user recommendations: 11\n",
            "+--------------+---------------+----------------------------------------------+---------------+----------------------------------------------------------------+------------------+---------------------+------------------+------------------------------------------------------------------------------------------------------------------------------------------------------------------------------------------------------------------------------------------------------------------------------------------------------------------------------------------------------------------------------------+\n",
            "|user_id       |antecedent_asin|antecedent_title                              |consequent_asin|consequent_title                                                |confidence        |support              |avg_rating        |basket                                                                                                                                                                                                                                                                                                                                                                              |\n",
            "+--------------+---------------+----------------------------------------------+---------------+----------------------------------------------------------------+------------------+---------------------+------------------+------------------------------------------------------------------------------------------------------------------------------------------------------------------------------------------------------------------------------------------------------------------------------------------------------------------------------------------------------------------------------------+\n",
            "|A1D2C0WDCSHUWZ|0451515242     |Emma (Signet classics)                        |1581730470     |Emma                                                            |0.5               |0.0014903129657228018|4.428571428571429 |[0007175469, B0007DV5K4, B0006F3T8Y, 0760700435, 0435126024, 1901768619, B000I3NFKG, 0582528259, 0075543893, B000NWQXBA, B000J667AM, 0451518845, 1591163366, 067976223X, B000GDLGSG, 0451515242, B000O0AH22, 0736661875, B0006W9YL8, B000ILIJE0, B000E39CZW, 1576463451, 0807209074, 0618009361, 9997407695, 9999868134, 0241143071, 0140860436, 9562911306, B000BO2D6Y, B000PMAOFE]|\n",
            "|A1NT7ED5TATUAM|B00086Q4RO     |Life on the Mississippi, (A Bantam Pathfinder)|0520050894     |A Connecticut Yankee in King Arthur's Court (Mark Twain Library)|0.5               |0.0014903129657228018|2.3333333333333335|[B000Q9R332, B00086Q4RO, 0613125266]                                                                                                                                                                                                                                                                                                                                                |\n",
            "|A201GXWKSPNE4C|0760700435     |Sense and sensibility                         |0451515242     |Emma (Signet classics)                                          |0.6666666666666666|0.0014903129657228018|4.428571428571429 |[0760700435, B00087TOVG]                                                                                                                                                                                                                                                                                                                                                            |\n",
            "|A319KYEIAZ3SON|0451515242     |Emma (Signet classics)                        |0760700435     |Sense and sensibility                                           |0.5               |0.0014903129657228018|5.0               |[019283357X, 0582418224, 0685580288, B0007HWL6C, 1581730470, 0451515242, 075530750X, 0865472637, B000KC4TIM, B00008HBR7, 0778800539, B000MS0A0K, 0582461359]                                                                                                                                                                                                                        |\n",
            "|A39IY0JU5JI69G|1581730470     |Emma                                          |0451515242     |Emma (Signet classics)                                          |0.6666666666666666|0.0014903129657228018|4.428571428571429 |[1581730470, 0395051150]                                                                                                                                                                                                                                                                                                                                                            |\n",
            "+--------------+---------------+----------------------------------------------+---------------+----------------------------------------------------------------+------------------+---------------------+------------------+------------------------------------------------------------------------------------------------------------------------------------------------------------------------------------------------------------------------------------------------------------------------------------------------------------------------------------------------------------------------------------+\n",
            "only showing top 5 rows\n",
            "\n"
          ]
        }
      ],
      "source": [
        "#  Remove books the user already reviewed\n",
        "user_suggestions_filtered = user_suggestions.filter(\n",
        "    ~F.array_contains(F.col(\"basket\"), F.col(\"consequent_asin\"))\n",
        ")\n",
        "\n",
        "#  Remove duplicates: same user & same title (different ASIN)\n",
        "user_suggestions_unique = (\n",
        "    user_suggestions_filtered\n",
        "    .dropDuplicates([\"user_id\", \"consequent_title\"])\n",
        ")\n",
        "\n",
        "print(\"Cleaned user recommendations:\", user_suggestions_unique.count())\n",
        "user_suggestions_unique.show(5, truncate=False)"
      ]
    },
    {
      "cell_type": "markdown",
      "metadata": {
        "id": "iXZL2ZTu-s7O"
      },
      "source": [
        "After generating preliminary recommendations, two filtering steps were applied:\n",
        "- Books already present in the user’s basket were excluded to avoid redundancy;\n",
        "- Duplicates with identical titles but different ASINs were removed.\n",
        "\n",
        "This ensured that final recommendations were novel and unique for each user."
      ]
    },
    {
      "cell_type": "markdown",
      "metadata": {
        "id": "W_Y8HEYGP9UN"
      },
      "source": [
        "### Sort Recommendations by Average Rating (Descending)"
      ]
    },
    {
      "cell_type": "code",
      "execution_count": 15,
      "metadata": {
        "colab": {
          "base_uri": "https://localhost:8080/"
        },
        "id": "gd1fbHT4QM7r",
        "outputId": "93f29333-6297-4178-f40d-fc9638d6fa5b"
      },
      "outputs": [
        {
          "output_type": "stream",
          "name": "stdout",
          "text": [
            "Top book recommendations generated per user.\n",
            "+--------------+-----------------------------------------------------------------------------------------------------------------------------------+\n",
            "|user_id       |recommended_books_sorted                                                                                                           |\n",
            "+--------------+-----------------------------------------------------------------------------------------------------------------------------------+\n",
            "|A1D2C0WDCSHUWZ|[{1, 1581730470, Emma, 4.428571428571429, 0.5, 0.0014903129657228018}]                                                             |\n",
            "|A1NT7ED5TATUAM|[{1, 0520050894, A Connecticut Yankee in King Arthur's Court (Mark Twain Library), 2.3333333333333335, 0.5, 0.0014903129657228018}]|\n",
            "|A201GXWKSPNE4C|[{1, 0451515242, Emma (Signet classics), 4.428571428571429, 0.6666666666666666, 0.0014903129657228018}]                            |\n",
            "|A319KYEIAZ3SON|[{1, 0760700435, Sense and sensibility, 5.0, 0.5, 0.0014903129657228018}]                                                          |\n",
            "|A39IY0JU5JI69G|[{1, 0451515242, Emma (Signet classics), 4.428571428571429, 0.6666666666666666, 0.0014903129657228018}]                            |\n",
            "|A3DICRPEYWH9K5|[{1, 1581730470, Emma, 4.428571428571429, 0.5, 0.0014903129657228018}]                                                             |\n",
            "|A3MVAN55WKCGR7|[{1, 0451518845, Jane Eyre (Signet classics), 4.5, 0.6666666666666666, 0.0014903129657228018}]                                     |\n",
            "|A3QZCA4LTTVGAD|[{1, 0613175719, Ulysses, 4.166666666666667, 0.6666666666666666, 0.0014903129657228018}]                                           |\n",
            "|AHD101501WCN1 |[{1, 0520050894, A Connecticut Yankee in King Arthur's Court (Mark Twain Library), 2.3333333333333335, 0.5, 0.0014903129657228018}]|\n",
            "|AOUBCAH5BI4FU |[{1, B000ILIJE0, The Hobbit There and Back Again, 4.542857142857143, 0.75, 0.0022354694485842027}]                                 |\n",
            "+--------------+-----------------------------------------------------------------------------------------------------------------------------------+\n",
            "only showing top 10 rows\n",
            "\n"
          ]
        }
      ],
      "source": [
        "# Rank recommendations by average rating (descending)\n",
        "windowSpec = Window.partitionBy(\"user_id\").orderBy(F.desc(\"avg_rating\"))\n",
        "\n",
        "user_recommendations_sorted = (\n",
        "    user_suggestions_unique\n",
        "    .withColumn(\"rank\", F.row_number().over(windowSpec))\n",
        "    .groupBy(\"user_id\")\n",
        "    .agg(\n",
        "        F.collect_list(\n",
        "            F.struct(\n",
        "                F.col(\"rank\"),\n",
        "                F.col(\"consequent_asin\"),\n",
        "                F.col(\"consequent_title\"),\n",
        "                F.col(\"avg_rating\"),\n",
        "                F.col(\"confidence\"),\n",
        "                F.col(\"support\")\n",
        "            )\n",
        "        ).alias(\"recommended_books_sorted\")\n",
        "    )\n",
        ")\n",
        "\n",
        "# Display sample output for a few users\n",
        "print(\"Top book recommendations generated per user.\")\n",
        "user_recommendations_sorted.show(10, truncate=False)"
      ]
    },
    {
      "cell_type": "markdown",
      "metadata": {
        "id": "sETXnFUh-s7P"
      },
      "source": [
        "To personalize results, recommendations were ranked per user using a window function ordered by average rating. The top-ranked items were then aggregated into user-level lists. This approach ensures that each user receives distinct, high-quality book suggestions based on frequent co-review patterns and book popularity."
      ]
    },
    {
      "cell_type": "markdown",
      "metadata": {
        "id": "y57FiB4PT98n"
      },
      "source": [
        "### How many books each user gets recommended?"
      ]
    },
    {
      "cell_type": "code",
      "execution_count": 16,
      "metadata": {
        "colab": {
          "base_uri": "https://localhost:8080/"
        },
        "id": "ilfv2XpmT-p0",
        "outputId": "c34d4d4f-6832-4dfa-c76d-ade8b31c1ccf"
      },
      "outputs": [
        {
          "output_type": "stream",
          "name": "stdout",
          "text": [
            "Recommendation count per user:\n",
            "+--------------+-------------------+\n",
            "|user_id       |num_recommendations|\n",
            "+--------------+-------------------+\n",
            "|A1D2C0WDCSHUWZ|1                  |\n",
            "|A1NT7ED5TATUAM|1                  |\n",
            "|A201GXWKSPNE4C|1                  |\n",
            "|A319KYEIAZ3SON|1                  |\n",
            "|A39IY0JU5JI69G|1                  |\n",
            "|A3DICRPEYWH9K5|1                  |\n",
            "|A3MVAN55WKCGR7|1                  |\n",
            "|A3QZCA4LTTVGAD|1                  |\n",
            "|AHD101501WCN1 |1                  |\n",
            "|AOUBCAH5BI4FU |1                  |\n",
            "|AUT5ESMCYGBCE |1                  |\n",
            "+--------------+-------------------+\n",
            "\n",
            "Maximum number of books recommended to a single user: 1\n"
          ]
        }
      ],
      "source": [
        "# Count how many recommendations each user received\n",
        "user_recommendation_count = (\n",
        "    user_recommendations_sorted\n",
        "    .select(\n",
        "        \"user_id\",\n",
        "        F.size(\"recommended_books_sorted\").alias(\"num_recommendations\")\n",
        "    )\n",
        "    .orderBy(F.desc(\"num_recommendations\"))\n",
        ")\n",
        "\n",
        "print(\"Recommendation count per user:\")\n",
        "user_recommendation_count.show(20, truncate=False)\n",
        "\n",
        "# Find the maximum number of recommended books for any user\n",
        "max_recommendations = (\n",
        "    user_recommendation_count\n",
        "    .agg(F.max(\"num_recommendations\").alias(\"max_recommendations\"))\n",
        "    .collect()[0][\"max_recommendations\"]\n",
        ")\n",
        "\n",
        "print(f\"Maximum number of books recommended to a single user: {max_recommendations}\")"
      ]
    },
    {
      "cell_type": "markdown",
      "metadata": {
        "id": "NFoekkVJQZ-j"
      },
      "source": [
        "### Top 10 Most Reviewed Books"
      ]
    },
    {
      "cell_type": "code",
      "execution_count": 17,
      "metadata": {
        "colab": {
          "base_uri": "https://localhost:8080/"
        },
        "id": "EGlSyZpkQf55",
        "outputId": "fc8fec8f-f734-4044-90ed-449d792383e3"
      },
      "outputs": [
        {
          "output_type": "stream",
          "name": "stdout",
          "text": [
            "\n",
            "Top 10 Most Reviewed Books:\n",
            "+----------+----------------------------------------------------------------+-----------+\n",
            "|Id        |Title                                                           |num_reviews|\n",
            "+----------+----------------------------------------------------------------+-----------+\n",
            "|B000PC54NG|The Hobbit                                                      |50         |\n",
            "|B000GQG7D2|The Hobbit                                                      |44         |\n",
            "|B000IEZE3G|Harry Potter and The Sorcerer's Stone                           |43         |\n",
            "|B000GQG5MA|The Hobbit; Or, There and Back Again                            |39         |\n",
            "|B000NWQXBA|The Hobbit                                                      |39         |\n",
            "|B000NWU3I4|The Hobbitt, or there and back again; illustrated by the author.|37         |\n",
            "|B000Q032UY|The Hobbit or There and Back Again                              |37         |\n",
            "|B000NDSX6C|The Hobbit                                                      |36         |\n",
            "|B000ILIJE0|The Hobbit There and Back Again                                 |35         |\n",
            "|B000H9R1Q0|The Hobbit                                                      |34         |\n",
            "+----------+----------------------------------------------------------------+-----------+\n",
            "only showing top 10 rows\n",
            "\n"
          ]
        }
      ],
      "source": [
        "most_reviewed_books = (\n",
        "    sample_df.groupBy(\"Id\", \"Title\")\n",
        "    .agg(F.count(\"User_id\").alias(\"num_reviews\"))\n",
        "    .orderBy(F.desc(\"num_reviews\"))\n",
        ")\n",
        "\n",
        "print(\"\\nTop 10 Most Reviewed Books:\")\n",
        "most_reviewed_books.show(10, truncate=False)"
      ]
    },
    {
      "cell_type": "markdown",
      "metadata": {
        "id": "rAuFqphaQkDt"
      },
      "source": [
        "### Top 10 Most Recommended Books (Appearing in rules)"
      ]
    },
    {
      "cell_type": "code",
      "execution_count": 18,
      "metadata": {
        "colab": {
          "base_uri": "https://localhost:8080/"
        },
        "id": "8MQG7FMuQqOD",
        "outputId": "1a7db3b3-9fe1-4f2a-ee6d-6b8cb16daab1"
      },
      "outputs": [
        {
          "output_type": "stream",
          "name": "stdout",
          "text": [
            "\n",
            "Top 10 Most Recommended Books:\n",
            "+---------------+----------------------------------------------------------------+-----------------+\n",
            "|consequent_asin|consequent_title                                                |times_recommended|\n",
            "+---------------+----------------------------------------------------------------+-----------------+\n",
            "|0451515242     |Emma (Signet classics)                                          |2                |\n",
            "|B0007EJ04G     |Leaves of Grass (The Illustrated Modern Library)                |1                |\n",
            "|1581730470     |Emma                                                            |1                |\n",
            "|0520050894     |A Connecticut Yankee in King Arthur's Court (Mark Twain Library)|1                |\n",
            "|0613175719     |Ulysses                                                         |1                |\n",
            "|B00087CHVU     |Leaves of grass                                                 |1                |\n",
            "|B00086Q4RO     |Life on the Mississippi, (A Bantam Pathfinder)                  |1                |\n",
            "|0451518845     |Jane Eyre (Signet classics)                                     |1                |\n",
            "|B000ILIJE0     |The Hobbit There and Back Again                                 |1                |\n",
            "|0760700435     |Sense and sensibility                                           |1                |\n",
            "+---------------+----------------------------------------------------------------+-----------------+\n",
            "\n"
          ]
        }
      ],
      "source": [
        "most_recommended_books = (\n",
        "    rules_with_rating.groupBy(\"consequent_asin\", \"consequent_title\")\n",
        "    .agg(F.count(\"antecedent_asin\").alias(\"times_recommended\"))\n",
        "    .orderBy(F.desc(\"times_recommended\"))\n",
        ")\n",
        "\n",
        "print(\"\\nTop 10 Most Recommended Books:\")\n",
        "most_recommended_books.show(10, truncate=False)"
      ]
    },
    {
      "cell_type": "markdown",
      "metadata": {
        "id": "mIsh3hfC-s7Q"
      },
      "source": [
        "###  How Often Each Book Was Recommended (Spark FP-Growth)"
      ]
    },
    {
      "cell_type": "code",
      "execution_count": 19,
      "metadata": {
        "colab": {
          "base_uri": "https://localhost:8080/"
        },
        "id": "hHE5Zx8j-s7Q",
        "outputId": "aa4551a0-c351-4340-de38-35832e871c0c"
      },
      "outputs": [
        {
          "output_type": "stream",
          "name": "stdout",
          "text": [
            "Top 10 most recommended books (Spark FP-Growth):\n",
            "+---------------+----------------------------------------------------------------+---------------------+\n",
            "|consequent_asin|consequent_title                                                |num_users_recommended|\n",
            "+---------------+----------------------------------------------------------------+---------------------+\n",
            "|1581730470     |Emma                                                            |2                    |\n",
            "|0520050894     |A Connecticut Yankee in King Arthur's Court (Mark Twain Library)|2                    |\n",
            "|0451515242     |Emma (Signet classics)                                          |2                    |\n",
            "|0760700435     |Sense and sensibility                                           |2                    |\n",
            "|0613175719     |Ulysses                                                         |1                    |\n",
            "|0451518845     |Jane Eyre (Signet classics)                                     |1                    |\n",
            "|B000ILIJE0     |The Hobbit There and Back Again                                 |1                    |\n",
            "+---------------+----------------------------------------------------------------+---------------------+\n",
            "\n"
          ]
        }
      ],
      "source": [
        "most_recommended_books_spark = (\n",
        "    user_suggestions_unique\n",
        "    .groupBy(\"consequent_asin\", \"consequent_title\")\n",
        "    .agg(F.countDistinct(\"user_id\").alias(\"num_users_recommended\"))\n",
        "    .orderBy(F.desc(\"num_users_recommended\"))\n",
        ")\n",
        "\n",
        "print(\"Top 10 most recommended books (Spark FP-Growth):\")\n",
        "most_recommended_books_spark.show(10, truncate=False)"
      ]
    },
    {
      "cell_type": "markdown",
      "metadata": {
        "id": "GXVEgYK6QvW4"
      },
      "source": [
        "\n",
        "### Summary\n",
        "\n"
      ]
    },
    {
      "cell_type": "markdown",
      "metadata": {
        "id": "IIFmU84xQz-P"
      },
      "source": [
        "In this project, FP-Growth was implemented to perform large-scale association rule mining on the Amazon Books Review dataset. Each user’s reviewed books were treated as a basket, enabling the discovery of frequent co-reviewed patterns. Based on these patterns, user-level book recommendations were generated while carefully avoiding duplicates caused by identical titles with different ASINs (e.g., paperback vs. hardcover). Recommendations were ranked using the average review scores of the suggested books to prioritize quality. Finally, analyses of the most-read and most-recommended books provided additional insights into user preferences and global book popularity trends."
      ]
    },
    {
      "cell_type": "markdown",
      "metadata": {
        "id": "MPNQKVRdXzLK"
      },
      "source": [
        "# Prof Suggestions\n",
        "\n",
        "Custom FP-Growth Implementation (from scratch using PySpark)\n",
        "\n",
        "**Goal:** Replicate FP-Growth outcomes (association rules) without using Spark's FPGrowth class"
      ]
    },
    {
      "cell_type": "markdown",
      "metadata": {
        "id": "KbvI9lVtdu4v"
      },
      "source": [
        "### Libaries"
      ]
    },
    {
      "cell_type": "code",
      "execution_count": 20,
      "metadata": {
        "id": "eSuEoMSDdouR"
      },
      "outputs": [],
      "source": [
        "from pyspark.sql import Row\n",
        "from pyspark.sql.types import ArrayType, StructType, StructField, StringType"
      ]
    },
    {
      "cell_type": "markdown",
      "metadata": {
        "id": "pEFJqzapb6HH"
      },
      "source": [
        "### Spark Session Setup"
      ]
    },
    {
      "cell_type": "code",
      "execution_count": 21,
      "metadata": {
        "id": "ImBFpjBwb3MP"
      },
      "outputs": [],
      "source": [
        "spark = SparkSession.builder.appName(\"Custom_FP_Growth_Implementation\").getOrCreate()"
      ]
    },
    {
      "cell_type": "markdown",
      "metadata": {
        "id": "Gm6lxAAbd1hp"
      },
      "source": [
        "### Create item frequency table"
      ]
    },
    {
      "cell_type": "code",
      "execution_count": 22,
      "metadata": {
        "id": "561mj09Kb3Gk"
      },
      "outputs": [],
      "source": [
        "item_freq = (\n",
        "baskets_id_df\n",
        ".withColumn(\"item\", F.explode(\"basket\"))\n",
        ".groupBy(\"item\")\n",
        ".count()\n",
        ".withColumnRenamed(\"count\", \"support_count\")\n",
        ")\n"
      ]
    },
    {
      "cell_type": "code",
      "execution_count": 23,
      "metadata": {
        "id": "JmOjTRmMb3AP"
      },
      "outputs": [],
      "source": [
        "total_baskets = baskets_id_df.count()\n",
        "min_support = 0.001 # same as used in Spark's FP-Growth\n",
        "min_support_count = int(total_baskets * min_support)\n",
        "\n",
        "frequent_items = item_freq.filter(F.col(\"support_count\") >= 3)\n",
        "# I am not using min_support_count as its too big as per me\n"
      ]
    },
    {
      "cell_type": "code",
      "execution_count": 24,
      "metadata": {
        "id": "T0jNv0Edl_VM"
      },
      "outputs": [],
      "source": [
        "#frequent_items.show()"
      ]
    },
    {
      "cell_type": "code",
      "execution_count": 25,
      "metadata": {
        "id": "GsjSjTOllOe2"
      },
      "outputs": [],
      "source": [
        "#min_support_count"
      ]
    },
    {
      "cell_type": "markdown",
      "metadata": {
        "id": "JkRJKgBvd-QB"
      },
      "source": [
        "### UDF1\n",
        "Takes one user’s basket (a list of items/books that the user has bought or reviewed) and returns all unique pairs of items that occur together in that basket."
      ]
    },
    {
      "cell_type": "code",
      "execution_count": 26,
      "metadata": {
        "id": "zpS49YMsb246"
      },
      "outputs": [],
      "source": [
        "def generate_pairs(basket):\n",
        "    \"\"\"\n",
        "    Generate all unique, sorted item pairs from a user's basket.\n",
        "    Example:\n",
        "        ['A', 'B', 'B', 'C'] = [('A','B'), ('A','C'), ('B','C')]\n",
        "    \"\"\"\n",
        "    # Defensive checks\n",
        "    if basket is None:\n",
        "        return []\n",
        "\n",
        "    # Remove duplicates and sort for consistency\n",
        "    basket = sorted(set(basket))\n",
        "\n",
        "    # Generate pair combinations\n",
        "    pairs = []\n",
        "    for i in range(len(basket)):\n",
        "        for j in range(i + 1, len(basket)):\n",
        "            pairs.append((basket[i], basket[j]))\n",
        "\n",
        "    return pairs"
      ]
    },
    {
      "cell_type": "markdown",
      "metadata": {
        "id": "1kU-I9Lx-s7S"
      },
      "source": [
        "### Generate Item Pairs from Each Basket (Custom Step)"
      ]
    },
    {
      "cell_type": "code",
      "execution_count": 27,
      "metadata": {
        "id": "7g-LsPG_ekz5"
      },
      "outputs": [],
      "source": [
        "# Define schema for UDF output (array of structs)\n",
        "pair_schema = ArrayType(\n",
        "    StructType([\n",
        "        StructField(\"itemA\", StringType(), True),\n",
        "        StructField(\"itemB\", StringType(), True)\n",
        "    ])\n",
        ")\n",
        "\n",
        "# Register UDF\n",
        "generate_pairs_udf = F.udf(generate_pairs, pair_schema)\n",
        "\n",
        "# Apply UDF to each basket, explode, and extract item pairs\n",
        "basket_pairs = (\n",
        "    baskets_id_df\n",
        "    .withColumn(\"pairs\", generate_pairs_udf(F.col(\"basket\")))\n",
        "    .withColumn(\"pair\", F.explode(\"pairs\"))\n",
        "    .select(\n",
        "        F.col(\"pair.itemA\").alias(\"itemA\"),\n",
        "        F.col(\"pair.itemB\").alias(\"itemB\")\n",
        "    )\n",
        ")"
      ]
    },
    {
      "cell_type": "code",
      "execution_count": 28,
      "metadata": {
        "id": "9TTsIGUGmNeH"
      },
      "outputs": [],
      "source": [
        "#basket_pairs.show()"
      ]
    },
    {
      "cell_type": "markdown",
      "metadata": {
        "id": "d_IUH7lke_Lj"
      },
      "source": [
        "### Compute support for each pair"
      ]
    },
    {
      "cell_type": "code",
      "execution_count": 29,
      "metadata": {
        "id": "5JT3V_0ob2cK"
      },
      "outputs": [],
      "source": [
        "pair_support = (basket_pairs.groupBy(\"itemA\", \"itemB\").count().withColumnRenamed(\"count\", \"pair_support_count\"))"
      ]
    },
    {
      "cell_type": "markdown",
      "metadata": {
        "id": "9M87oQoe-s7S"
      },
      "source": [
        "After generating item pairs for each user basket, the frequency of each unique pair was computed. The resulting support counts represent the number of baskets in which both items co-occur, forming the foundation for association rule generation."
      ]
    },
    {
      "cell_type": "code",
      "execution_count": 30,
      "metadata": {
        "id": "QvOuMemAnwU_"
      },
      "outputs": [],
      "source": [
        "# Filter by same min support\n",
        "frequent_pairs = pair_support.filter(F.col(\"pair_support_count\") >= 2)"
      ]
    },
    {
      "cell_type": "code",
      "execution_count": 31,
      "metadata": {
        "id": "JYkmDy2Kk1iU"
      },
      "outputs": [],
      "source": [
        "#pair_support.orderBy(F.desc(\"pair_support_count\")).show(20, truncate=False)\n"
      ]
    },
    {
      "cell_type": "markdown",
      "metadata": {
        "id": "JaEei7iXfM3Z"
      },
      "source": [
        "###  Generate Association Rules (A → B) with Support, Confidence, Lift"
      ]
    },
    {
      "cell_type": "code",
      "execution_count": 32,
      "metadata": {
        "id": "AhGYh-2pfNzA"
      },
      "outputs": [],
      "source": [
        "rules = (\n",
        "    frequent_pairs\n",
        "    # Join singleton supports for both items\n",
        "    .join(\n",
        "        frequent_items\n",
        "        .withColumnRenamed(\"item\", \"itemA_support\")\n",
        "        .withColumnRenamed(\"support_count\", \"support_A\"),\n",
        "        F.col(\"itemA\") == F.col(\"itemA_support\"),\n",
        "        \"left\"\n",
        "    )\n",
        "    .join(\n",
        "        frequent_items\n",
        "        .withColumnRenamed(\"item\", \"itemB_support\")\n",
        "        .withColumnRenamed(\"support_count\", \"support_B\"),\n",
        "        F.col(\"itemB\") == F.col(\"itemB_support\"),\n",
        "        \"left\"\n",
        "    )\n",
        "    # Compute metrics\n",
        "    .withColumn(\"support\", F.col(\"pair_support_count\") / F.lit(total_baskets))\n",
        "    .withColumn(\"confidence\", F.col(\"pair_support_count\") / F.col(\"support_A\"))\n",
        "    .withColumn(\n",
        "        \"lift\",\n",
        "        (F.col(\"pair_support_count\") / F.lit(total_baskets))\n",
        "        / ((F.col(\"support_A\") / F.lit(total_baskets)) * (F.col(\"support_B\") / F.lit(total_baskets)))\n",
        "    )\n",
        "    # Keep clean columns\n",
        "    .select(\"itemA\", \"itemB\", \"support\", \"confidence\", \"lift\")\n",
        ")\n",
        "\n"
      ]
    },
    {
      "cell_type": "code",
      "execution_count": 33,
      "metadata": {
        "colab": {
          "base_uri": "https://localhost:8080/"
        },
        "id": "-xyQXgG7kp-3",
        "outputId": "b0af356c-f004-45a9-8cf5-af7a4324fba9"
      },
      "outputs": [
        {
          "output_type": "stream",
          "name": "stdout",
          "text": [
            "Association rules generated: 15\n",
            "+----------+----------+---------------------+------------------+------------------+\n",
            "|itemA     |itemB     |support              |confidence        |lift              |\n",
            "+----------+----------+---------------------+------------------+------------------+\n",
            "|B000GRMG5O|B000MS82OQ|0.0014903129657228018|0.6666666666666666|NULL              |\n",
            "|0451515242|0760700435|0.0014903129657228018|0.5               |223.66666666666666|\n",
            "|0451515242|1581730470|0.0014903129657228018|0.5               |223.66666666666666|\n",
            "|0451518845|0582528259|0.0014903129657228018|0.4               |178.93333333333334|\n",
            "|B000BO2D6Y|B000O0AH22|0.0014903129657228018|0.4               |107.36            |\n",
            "|0451518845|B000BO2D6Y|0.0014903129657228018|0.4               |107.36            |\n",
            "|B000JJVHZE|B000K7WNQW|0.0014903129657228018|0.3333333333333333|111.83333333333333|\n",
            "|B000ILIJE0|B000NWQXBA|0.0022354694485842027|0.3333333333333333|111.83333333333333|\n",
            "|B000GQG5MA|B000NWU3I4|0.0014903129657228018|0.3333333333333333|74.55555555555556 |\n",
            "|0613175719|B000NQ9QF6|0.0014903129657228018|0.2857142857142857|127.8095238095238 |\n",
            "+----------+----------+---------------------+------------------+------------------+\n",
            "only showing top 10 rows\n",
            "\n"
          ]
        }
      ],
      "source": [
        "print(\"Association rules generated:\", rules.count())\n",
        "rules.orderBy(F.desc(\"confidence\")).show(10, truncate=False)"
      ]
    },
    {
      "cell_type": "markdown",
      "metadata": {
        "id": "Mx0u0dFv-s7S"
      },
      "source": [
        "Association rules were derived by joining frequent pairs with single-item supports to compute key metrics:\n",
        "- Support measures the relative frequency of co-occurrence.\n",
        "- Confidence measures the conditional probability of observing item B given item A.\n",
        "- Lift quantifies how much more likely items are to appear together than if they were independent.\n",
        "\n",
        "Only rules with confidence ≥ 0.5 were retained for analysis."
      ]
    },
    {
      "cell_type": "markdown",
      "metadata": {
        "id": "0RrRNb_UfcyM"
      },
      "source": [
        "### Filter rules by confidence threshold (like minConfidence)"
      ]
    },
    {
      "cell_type": "code",
      "execution_count": 34,
      "metadata": {
        "id": "6RAOGevmfeKR"
      },
      "outputs": [],
      "source": [
        "min_confidence = 0.5 #same\n",
        "rules_filtered = rules.filter(F.col(\"confidence\") >= min_confidence)"
      ]
    },
    {
      "cell_type": "markdown",
      "metadata": {
        "id": "GidVlGaO-s7S"
      },
      "source": [
        "A confidence threshold of 0.5, consistent with the Spark FP-Growth experiment, was applied to retain only strong associations.\n",
        "\n",
        "This filtering step ensures that the remaining rules represent meaningful co-occurrence patterns rather than random coincidences."
      ]
    },
    {
      "cell_type": "code",
      "execution_count": 35,
      "metadata": {
        "colab": {
          "base_uri": "https://localhost:8080/"
        },
        "id": "dbY001HZkV6l",
        "outputId": "7783e521-13e3-4945-bc3b-5004f1d6f5fe"
      },
      "outputs": [
        {
          "output_type": "stream",
          "name": "stdout",
          "text": [
            "Rules retained with confidence ≥ 0.5: 3\n",
            "+----------+----------+---------------------+------------------+------------------+\n",
            "|itemA     |itemB     |support              |confidence        |lift              |\n",
            "+----------+----------+---------------------+------------------+------------------+\n",
            "|B000GRMG5O|B000MS82OQ|0.0014903129657228018|0.6666666666666666|NULL              |\n",
            "|0451515242|0760700435|0.0014903129657228018|0.5               |223.66666666666666|\n",
            "|0451515242|1581730470|0.0014903129657228018|0.5               |223.66666666666666|\n",
            "+----------+----------+---------------------+------------------+------------------+\n",
            "\n"
          ]
        }
      ],
      "source": [
        "print(f\"Rules retained with confidence ≥ {min_confidence}: {rules_filtered.count()}\")\n",
        "rules_filtered.orderBy(F.desc(\"confidence\")).show(10, truncate=False)"
      ]
    },
    {
      "cell_type": "markdown",
      "metadata": {
        "id": "-Mx_FyuLfoW1"
      },
      "source": [
        "### Make the rules readable by adding titles"
      ]
    },
    {
      "cell_type": "code",
      "execution_count": 36,
      "metadata": {
        "id": "kUkpUqJofp0e"
      },
      "outputs": [],
      "source": [
        "rules_readable_prof = (\n",
        "    rules_filtered\n",
        "    # Join antecedent titles\n",
        "    .join(\n",
        "        title_mapping.alias(\"tm1\"),\n",
        "        F.col(\"itemA\") == F.col(\"tm1.Id\"),\n",
        "        \"left\"\n",
        "    )\n",
        "    .withColumnRenamed(\"Title\", \"antecedent_title\")\n",
        "    # Join consequent titles\n",
        "    .join(\n",
        "        title_mapping.alias(\"tm2\"),\n",
        "        F.col(\"itemB\") == F.col(\"tm2.Id\"),\n",
        "        \"left\"\n",
        "    )\n",
        "    .withColumnRenamed(\"Title\", \"consequent_title\")\n",
        "    # Keep relevant columns\n",
        "    .select(\n",
        "        \"itemA\", \"antecedent_title\",\n",
        "        \"itemB\", \"consequent_title\",\n",
        "        \"support\", \"confidence\", \"lift\"\n",
        "    )\n",
        ")"
      ]
    },
    {
      "cell_type": "markdown",
      "metadata": {
        "id": "-JC7EWmPgSuS"
      },
      "source": [
        "### Custom Ranking and Filtering Logic"
      ]
    },
    {
      "cell_type": "code",
      "execution_count": 37,
      "metadata": {
        "id": "sOsxZ855gTzw"
      },
      "outputs": [],
      "source": [
        "rules_final_prof = (\n",
        "    rules_readable_prof\n",
        "    # Remove redundant self-pairs (same title in A and B)\n",
        "    .filter(F.col(\"antecedent_title\") != F.col(\"consequent_title\"))\n",
        "    # Weighted ranking metric: combines confidence & lift\n",
        "    .withColumn(\"custom_score\", 0.6 * F.col(\"confidence\") + 0.4 * F.col(\"lift\"))\n",
        "    .orderBy(F.desc(\"custom_score\"))\n",
        ")"
      ]
    },
    {
      "cell_type": "code",
      "execution_count": 38,
      "metadata": {
        "colab": {
          "base_uri": "https://localhost:8080/"
        },
        "id": "z8HwLPUB-s7T",
        "outputId": "5cf8b0a7-dd1a-43a3-8e51-5d39f236f813"
      },
      "outputs": [
        {
          "output_type": "stream",
          "name": "stdout",
          "text": [
            "Final ranked rules: 2\n",
            "+----------------------+---------------------+----------+------------------+-----------------+\n",
            "|antecedent_title      |consequent_title     |confidence|lift              |custom_score     |\n",
            "+----------------------+---------------------+----------+------------------+-----------------+\n",
            "|Emma (Signet classics)|Sense and sensibility|0.5       |223.66666666666666|89.76666666666667|\n",
            "|Emma (Signet classics)|Emma                 |0.5       |223.66666666666666|89.76666666666667|\n",
            "+----------------------+---------------------+----------+------------------+-----------------+\n",
            "\n"
          ]
        }
      ],
      "source": [
        "print(\"Final ranked rules:\", rules_final_prof.count())\n",
        "rules_final_prof.select(\n",
        "    \"antecedent_title\", \"consequent_title\", \"confidence\", \"lift\", \"custom_score\"\n",
        ").show(10, truncate=False)"
      ]
    },
    {
      "cell_type": "markdown",
      "metadata": {
        "id": "y2zNfNCPgiSU"
      },
      "source": [
        "### Generate user recommendations"
      ]
    },
    {
      "cell_type": "code",
      "execution_count": 39,
      "metadata": {
        "id": "gcu63J7vgk85"
      },
      "outputs": [],
      "source": [
        "# Match each user's basket with antecedents to get consequents as recommendations\n",
        "\n",
        "user_suggestions_prof = (\n",
        "    baskets_id_df.alias(\"b\")\n",
        "    # Join where user's basket contains the antecedent item\n",
        "    .join(\n",
        "        rules_final_prof.alias(\"r\"),\n",
        "        F.expr(\"array_contains(b.basket, r.itemA)\"),\n",
        "        \"inner\"\n",
        "    )\n",
        "    .select(\n",
        "        F.col(\"b.User_id\").alias(\"user_id\"),\n",
        "        F.col(\"r.itemB\").alias(\"recommended_asin\"),\n",
        "        F.col(\"r.consequent_title\").alias(\"recommended_title\"),\n",
        "        F.col(\"r.confidence\"),\n",
        "        F.col(\"r.lift\"),\n",
        "        F.col(\"r.custom_score\")\n",
        "    )\n",
        ")\n"
      ]
    },
    {
      "cell_type": "code",
      "execution_count": 40,
      "metadata": {
        "id": "hflDWvMlhAqJ"
      },
      "outputs": [],
      "source": [
        "# Remove duplicates per user\n",
        "user_suggestions_unique_prof = user_suggestions_prof.dropDuplicates([\"user_id\", \"recommended_asin\"])\n",
        "\n",
        "# Rank recommendations per user\n",
        "windowSpec_prof = Window.partitionBy(\"user_id\").orderBy(F.desc(\"custom_score\")) # Earlier i used avg. rating to sort the books to recommond\n",
        "\n",
        "user_recommendations_sorted_prof = (\n",
        "  user_suggestions_unique_prof\n",
        "  .withColumn(\"rank\", F.row_number().over(windowSpec_prof))\n",
        "  .groupBy(\"user_id\")\n",
        "  .agg(\n",
        "      F.collect_list(\n",
        "        F.struct(\n",
        "          F.col(\"rank\"),\n",
        "          F.col(\"recommended_asin\"),\n",
        "          F.col(\"recommended_title\"),\n",
        "          F.col(\"confidence\"),\n",
        "          F.col(\"lift\"),\n",
        "          F.col(\"custom_score\"))).alias(\"recommended_books_sorted\")))"
      ]
    },
    {
      "cell_type": "code",
      "execution_count": 41,
      "metadata": {
        "colab": {
          "base_uri": "https://localhost:8080/"
        },
        "id": "IBO2vHqwjSPP",
        "outputId": "9a2b7ea4-e310-4031-def7-e00a33bd77a4"
      },
      "outputs": [
        {
          "output_type": "stream",
          "name": "stdout",
          "text": [
            "+--------------+-------------------------------------------------------------------------------------------------------------------------------------------------------+\n",
            "|user_id       |recommended_books_sorted                                                                                                                               |\n",
            "+--------------+-------------------------------------------------------------------------------------------------------------------------------------------------------+\n",
            "|A1D2C0WDCSHUWZ|[{1, 0760700435, Sense and sensibility, 0.5, 223.66666666666666, 89.76666666666667}, {2, 1581730470, Emma, 0.5, 223.66666666666666, 89.76666666666667}]|\n",
            "|A319KYEIAZ3SON|[{1, 0760700435, Sense and sensibility, 0.5, 223.66666666666666, 89.76666666666667}, {2, 1581730470, Emma, 0.5, 223.66666666666666, 89.76666666666667}]|\n",
            "|A3DICRPEYWH9K5|[{1, 0760700435, Sense and sensibility, 0.5, 223.66666666666666, 89.76666666666667}, {2, 1581730470, Emma, 0.5, 223.66666666666666, 89.76666666666667}]|\n",
            "|AUT5ESMCYGBCE |[{1, 0760700435, Sense and sensibility, 0.5, 223.66666666666666, 89.76666666666667}, {2, 1581730470, Emma, 0.5, 223.66666666666666, 89.76666666666667}]|\n",
            "+--------------+-------------------------------------------------------------------------------------------------------------------------------------------------------+\n",
            "\n"
          ]
        }
      ],
      "source": [
        "user_recommendations_sorted_prof.show(10, truncate=False)"
      ]
    },
    {
      "cell_type": "markdown",
      "metadata": {
        "id": "IpvWR_aH-s7T"
      },
      "source": [
        "### Top 10 Most Recommended Books"
      ]
    },
    {
      "cell_type": "code",
      "execution_count": 42,
      "metadata": {
        "colab": {
          "base_uri": "https://localhost:8080/"
        },
        "id": "n_l-kFnR-s7T",
        "outputId": "f8dc6e50-69b5-4279-9460-cad6464f84db"
      },
      "outputs": [
        {
          "output_type": "stream",
          "name": "stdout",
          "text": [
            "Top 10 most frequently recommended books:\n",
            "+----------------+---------------------+---------------------+\n",
            "|recommended_asin|recommended_title    |num_users_recommended|\n",
            "+----------------+---------------------+---------------------+\n",
            "|1581730470      |Emma                 |4                    |\n",
            "|0760700435      |Sense and sensibility|4                    |\n",
            "+----------------+---------------------+---------------------+\n",
            "\n"
          ]
        }
      ],
      "source": [
        "top_recommended_books = (\n",
        "    user_suggestions_prof\n",
        "    .groupBy(\"recommended_asin\", \"recommended_title\")\n",
        "    .agg(F.countDistinct(\"user_id\").alias(\"num_users_recommended\"))\n",
        "    .orderBy(F.desc(\"num_users_recommended\"))\n",
        ")\n",
        "\n",
        "print(\"Top 10 most frequently recommended books:\")\n",
        "top_recommended_books.show(10, truncate=False)"
      ]
    },
    {
      "cell_type": "markdown",
      "metadata": {
        "id": "0ITxtooi-s7T"
      },
      "source": [
        "I declare that this material, which I now submit for assessment, is entirely my own work and has not been taken from the work of others, save and to the extent that such work has been cited and acknowledged within the text of my work, and including any code produced using generative AI systems. I understand that plagiarism, collusion, and copying are grave and serious offences in the university and accept the penalties that would be imposed should I engage in plagiarism, collusion or copying. This assignment, or any part of it, has not been previously submitted by me/us or any other person for assessment on this or any other course of study.\n",
        "\n",
        " Precious Prince\n"
      ]
    }
  ],
  "metadata": {
    "colab": {
      "provenance": []
    },
    "kernelspec": {
      "display_name": "Python 3",
      "name": "python3"
    },
    "language_info": {
      "name": "python"
    }
  },
  "nbformat": 4,
  "nbformat_minor": 0
}
